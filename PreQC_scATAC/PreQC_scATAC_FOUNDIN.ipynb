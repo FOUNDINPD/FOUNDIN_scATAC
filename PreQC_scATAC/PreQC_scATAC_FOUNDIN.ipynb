{
 "cells": [
  {
   "cell_type": "code",
   "execution_count": 1,
   "metadata": {},
   "outputs": [],
   "source": [
    "#Vikas Bansal\n",
    "#24 July 2020\n",
    "#This script is used to read the metric file from Cell Ranger ATAC and plot heatmaps (nUMI, nCells etc) for each sample"
   ]
  },
  {
   "cell_type": "code",
   "execution_count": 3,
   "metadata": {},
   "outputs": [],
   "source": [
    "set.seed(7860)\n",
    ".libPaths( c( \"~/Rlib/\", .libPaths()) )\n",
    "library(readxl)\n",
    "library(stringi)\n",
    "library(ComplexHeatmap)\n",
    "library(dplyr)"
   ]
  },
  {
   "cell_type": "code",
   "execution_count": 4,
   "metadata": {},
   "outputs": [],
   "source": [
    "\n",
    "#Path to metric files from cell ranger output \n",
    "Gene_results_file_names <- list.files(path=\"/home/vikas/QC_FOUNDIN_scATAC/Metrics_Summary/\",recursive = T, full=T)\n",
    "\n"
   ]
  },
  {
   "cell_type": "code",
   "execution_count": 5,
   "metadata": {},
   "outputs": [],
   "source": [
    "#Read metric files from cell ranger output\n",
    "test_count <- read.csv(Gene_results_file_names[4], stringsAsFactors=F, header=T)\n",
    "rownames(test_count)[1] <- strsplit(unlist(lapply(strsplit(Gene_results_file_names[1],\"/\"),tail,3)),\"_count\")[[1]][1]\n",
    "test_count$SampleName <- rownames(test_count)[1]\n",
    "ALL_WITH_COUNT <- test_count\n",
    "for (i in 2:length(Gene_results_file_names)){\n",
    "  #cat(\"loop\", i, \"\\n\")\n",
    "  \n",
    "  \n",
    "  test_count <- read.csv(Gene_results_file_names[i], stringsAsFactors=F, header=T)\n",
    "  \n",
    "  rownames(test_count)[1] <- strsplit(unlist(lapply(strsplit(Gene_results_file_names[i],\"/\"),tail,3)),\"_count\")[[1]][1]\n",
    "  test_count$SampleName <- rownames(test_count)[1]\n",
    "    ALL_WITH_COUNT <- merge(ALL_WITH_COUNT,test_count,all=T)\n",
    "  \n",
    "}\n"
   ]
  },
  {
   "cell_type": "code",
   "execution_count": 6,
   "metadata": {},
   "outputs": [],
   "source": [
    "rownames(ALL_WITH_COUNT) <- ALL_WITH_COUNT$SampleName"
   ]
  },
  {
   "cell_type": "code",
   "execution_count": 7,
   "metadata": {},
   "outputs": [],
   "source": [
    "#convert columns into numeric and save to new dataframe\n",
    "ALL_WITH_COUNT_tmp <- ALL_WITH_COUNT[,-c(match(c(\"cellranger.atac_version\",\"SampleName\"),colnames(ALL_WITH_COUNT)))]\n",
    "ALL_WITH_COUNTv2 <- sapply( ALL_WITH_COUNT_tmp, as.numeric )\n",
    "rownames(ALL_WITH_COUNTv2) <- rownames(ALL_WITH_COUNT_tmp)"
   ]
  },
  {
   "cell_type": "code",
   "execution_count": 8,
   "metadata": {},
   "outputs": [],
   "source": [
    "#Read metaInfo for samples to keep track of batches\n",
    "Petertable <- read_excel(\"Samples_names_codes_final_v.Cornelis.xlsx\", sheet = 1)\n",
    "Petertablev2 <- (as.data.frame(Petertable))\n",
    "Petertablev3 <- Petertablev2[grep(\"CDI\",Petertablev2[,\"Barcode_DZNE\"]),]\n",
    "\n",
    "\n",
    "Petertablev3$Barcode_last4 <- (stri_sub(Petertablev3$Barcode_DZNE,-4,-1))\n",
    "\n",
    "Petertablev3$SampleID <- (paste0(\"SCAT_PPMI\",Petertablev3$PPMI_ID, \"_\", Petertablev3$Barcode_last4,\"_da65\"))\n"
   ]
  },
  {
   "cell_type": "code",
   "execution_count": 9,
   "metadata": {},
   "outputs": [],
   "source": [
    "#Put annotation for multiple control samples (SCRN_PPMI3966_2813_da65). Also change the batch column\n",
    "Petertablev4 <- Petertablev3\n",
    "Petertablev4[c(nrow(Petertablev3)+1,nrow(Petertablev3)+2),] <- Petertablev3[grep(\"SCAT_PPMI3966_2813_da65\",Petertablev3$SampleID),]\n",
    "Petertablev4[c(nrow(Petertablev3)+1,nrow(Petertablev3)+2),\"SampleID\"] <- rownames(ALL_WITH_COUNTv2)[which(is.na(match(rownames(ALL_WITH_COUNTv2),Petertablev3$SampleID)))]\n",
    "Petertablev4[grep(\"SCAT_PPMI3966_2813_da65_E6\",Petertablev4$SampleID),\"BATCH\"] <- 5\n",
    "Petertablev4[grep(\"SCAT_PPMI3966_2813_da65_E8\",Petertablev4$SampleID),\"BATCH\"] <- 5\n"
   ]
  },
  {
   "cell_type": "code",
   "execution_count": 10,
   "metadata": {},
   "outputs": [
    {
     "data": {
      "text/html": [
       "<table>\n",
       "<thead><tr><th></th><th scope=col>PPMI_ID</th><th scope=col>RECRUITMENT_CAT</th><th scope=col>IMAGING_CAT</th><th scope=col>ENROLL_CAT</th><th scope=col>DESCRP_CAT</th><th scope=col>genetic_sex</th><th scope=col>pheno</th><th scope=col>Barcode_DZNE</th><th scope=col>Alternate MRN</th><th scope=col>IID</th><th scope=col>mutation</th><th scope=col>ethnicity</th><th scope=col>BATCH</th><th scope=col>Barcode_last4</th><th scope=col>SampleID</th></tr></thead>\n",
       "<tbody>\n",
       "\t<tr><th scope=row>94</th><td>52932                     </td><td>GENUN                     </td><td>GENUN                     </td><td>GENUN                     </td><td>GBA+                      </td><td>2                         </td><td>1                         </td><td>CDI00019091               </td><td>ST-00050717               </td><td>PPMISI52932               </td><td>GBA_N409S                 </td><td>European                  </td><td>4                         </td><td>9091                      </td><td>SCAT_PPMI52932_9091_da65  </td></tr>\n",
       "\t<tr><th scope=row>95</th><td>55124                     </td><td>GENPD                     </td><td>GENPD                     </td><td>GENPD                     </td><td>GBA+                      </td><td>2                         </td><td>2                         </td><td>CDI00021128               </td><td>ST-00050891               </td><td>PPMISI55124               </td><td>GBA_N409S                 </td><td>European                  </td><td>5                         </td><td>1128                      </td><td>SCAT_PPMI55124_1128_da65  </td></tr>\n",
       "\t<tr><th scope=row>96</th><td>53988                     </td><td>GENPD                     </td><td>GENPD                     </td><td>GENPD                     </td><td>GBA+                      </td><td>1                         </td><td>2                         </td><td>CDI00018554               </td><td>ST-00050660               </td><td>PPMISI53988               </td><td>GBA_N409S                 </td><td>European                  </td><td>5                         </td><td>8554                      </td><td>SCAT_PPMI53988_8554_da65  </td></tr>\n",
       "\t<tr><th scope=row>97</th><td>51844                     </td><td>GENPD                     </td><td>GENPD                     </td><td>GENPD                     </td><td>GBA+                      </td><td>2                         </td><td>2                         </td><td>CDI00019766               </td><td>ST-00050471               </td><td>PPMISI51844               </td><td>GBA_N409S                 </td><td>European                  </td><td>4                         </td><td>9766                      </td><td>SCAT_PPMI51844_9766_da65  </td></tr>\n",
       "\t<tr><th scope=row>98</th><td> 3966                     </td><td>HC                        </td><td>HC                        </td><td>HC                        </td><td>na                        </td><td>1                         </td><td>1                         </td><td>CDI00012813               </td><td>ST-00019368               </td><td>PPMISI3966                </td><td>na                        </td><td>European                  </td><td>5                         </td><td>2813                      </td><td>SCAT_PPMI3966_2813_da65_E6</td></tr>\n",
       "\t<tr><th scope=row>99</th><td> 3966                     </td><td>HC                        </td><td>HC                        </td><td>HC                        </td><td>na                        </td><td>1                         </td><td>1                         </td><td>CDI00012813               </td><td>ST-00019368               </td><td>PPMISI3966                </td><td>na                        </td><td>European                  </td><td>5                         </td><td>2813                      </td><td>SCAT_PPMI3966_2813_da65_E8</td></tr>\n",
       "</tbody>\n",
       "</table>\n"
      ],
      "text/latex": [
       "\\begin{tabular}{r|lllllllllllllll}\n",
       "  & PPMI\\_ID & RECRUITMENT\\_CAT & IMAGING\\_CAT & ENROLL\\_CAT & DESCRP\\_CAT & genetic\\_sex & pheno & Barcode\\_DZNE & Alternate MRN & IID & mutation & ethnicity & BATCH & Barcode\\_last4 & SampleID\\\\\n",
       "\\hline\n",
       "\t94 & 52932                            & GENUN                            & GENUN                            & GENUN                            & GBA+                             & 2                                & 1                                & CDI00019091                      & ST-00050717                      & PPMISI52932                      & GBA\\_N409S                      & European                         & 4                                & 9091                             & SCAT\\_PPMI52932\\_9091\\_da65  \\\\\n",
       "\t95 & 55124                            & GENPD                            & GENPD                            & GENPD                            & GBA+                             & 2                                & 2                                & CDI00021128                      & ST-00050891                      & PPMISI55124                      & GBA\\_N409S                      & European                         & 5                                & 1128                             & SCAT\\_PPMI55124\\_1128\\_da65  \\\\\n",
       "\t96 & 53988                            & GENPD                            & GENPD                            & GENPD                            & GBA+                             & 1                                & 2                                & CDI00018554                      & ST-00050660                      & PPMISI53988                      & GBA\\_N409S                      & European                         & 5                                & 8554                             & SCAT\\_PPMI53988\\_8554\\_da65  \\\\\n",
       "\t97 & 51844                            & GENPD                            & GENPD                            & GENPD                            & GBA+                             & 2                                & 2                                & CDI00019766                      & ST-00050471                      & PPMISI51844                      & GBA\\_N409S                      & European                         & 4                                & 9766                             & SCAT\\_PPMI51844\\_9766\\_da65  \\\\\n",
       "\t98 &  3966                              & HC                                 & HC                                 & HC                                 & na                                 & 1                                  & 1                                  & CDI00012813                        & ST-00019368                        & PPMISI3966                         & na                                 & European                           & 5                                  & 2813                               & SCAT\\_PPMI3966\\_2813\\_da65\\_E6\\\\\n",
       "\t99 &  3966                              & HC                                 & HC                                 & HC                                 & na                                 & 1                                  & 1                                  & CDI00012813                        & ST-00019368                        & PPMISI3966                         & na                                 & European                           & 5                                  & 2813                               & SCAT\\_PPMI3966\\_2813\\_da65\\_E8\\\\\n",
       "\\end{tabular}\n"
      ],
      "text/markdown": [
       "\n",
       "| <!--/--> | PPMI_ID | RECRUITMENT_CAT | IMAGING_CAT | ENROLL_CAT | DESCRP_CAT | genetic_sex | pheno | Barcode_DZNE | Alternate MRN | IID | mutation | ethnicity | BATCH | Barcode_last4 | SampleID |\n",
       "|---|---|---|---|---|---|---|---|---|---|---|---|---|---|---|---|\n",
       "| 94 | 52932                      | GENUN                      | GENUN                      | GENUN                      | GBA+                       | 2                          | 1                          | CDI00019091                | ST-00050717                | PPMISI52932                | GBA_N409S                  | European                   | 4                          | 9091                       | SCAT_PPMI52932_9091_da65   |\n",
       "| 95 | 55124                      | GENPD                      | GENPD                      | GENPD                      | GBA+                       | 2                          | 2                          | CDI00021128                | ST-00050891                | PPMISI55124                | GBA_N409S                  | European                   | 5                          | 1128                       | SCAT_PPMI55124_1128_da65   |\n",
       "| 96 | 53988                      | GENPD                      | GENPD                      | GENPD                      | GBA+                       | 1                          | 2                          | CDI00018554                | ST-00050660                | PPMISI53988                | GBA_N409S                  | European                   | 5                          | 8554                       | SCAT_PPMI53988_8554_da65   |\n",
       "| 97 | 51844                      | GENPD                      | GENPD                      | GENPD                      | GBA+                       | 2                          | 2                          | CDI00019766                | ST-00050471                | PPMISI51844                | GBA_N409S                  | European                   | 4                          | 9766                       | SCAT_PPMI51844_9766_da65   |\n",
       "| 98 |  3966                      | HC                         | HC                         | HC                         | na                         | 1                          | 1                          | CDI00012813                | ST-00019368                | PPMISI3966                 | na                         | European                   | 5                          | 2813                       | SCAT_PPMI3966_2813_da65_E6 |\n",
       "| 99 |  3966                      | HC                         | HC                         | HC                         | na                         | 1                          | 1                          | CDI00012813                | ST-00019368                | PPMISI3966                 | na                         | European                   | 5                          | 2813                       | SCAT_PPMI3966_2813_da65_E8 |\n",
       "\n"
      ],
      "text/plain": [
       "   PPMI_ID RECRUITMENT_CAT IMAGING_CAT ENROLL_CAT DESCRP_CAT genetic_sex pheno\n",
       "94 52932   GENUN           GENUN       GENUN      GBA+       2           1    \n",
       "95 55124   GENPD           GENPD       GENPD      GBA+       2           2    \n",
       "96 53988   GENPD           GENPD       GENPD      GBA+       1           2    \n",
       "97 51844   GENPD           GENPD       GENPD      GBA+       2           2    \n",
       "98  3966   HC              HC          HC         na         1           1    \n",
       "99  3966   HC              HC          HC         na         1           1    \n",
       "   Barcode_DZNE Alternate MRN IID         mutation  ethnicity BATCH\n",
       "94 CDI00019091  ST-00050717   PPMISI52932 GBA_N409S European  4    \n",
       "95 CDI00021128  ST-00050891   PPMISI55124 GBA_N409S European  5    \n",
       "96 CDI00018554  ST-00050660   PPMISI53988 GBA_N409S European  5    \n",
       "97 CDI00019766  ST-00050471   PPMISI51844 GBA_N409S European  4    \n",
       "98 CDI00012813  ST-00019368   PPMISI3966  na        European  5    \n",
       "99 CDI00012813  ST-00019368   PPMISI3966  na        European  5    \n",
       "   Barcode_last4 SampleID                  \n",
       "94 9091          SCAT_PPMI52932_9091_da65  \n",
       "95 1128          SCAT_PPMI55124_1128_da65  \n",
       "96 8554          SCAT_PPMI53988_8554_da65  \n",
       "97 9766          SCAT_PPMI51844_9766_da65  \n",
       "98 2813          SCAT_PPMI3966_2813_da65_E6\n",
       "99 2813          SCAT_PPMI3966_2813_da65_E8"
      ]
     },
     "metadata": {},
     "output_type": "display_data"
    }
   ],
   "source": [
    "tail(Petertablev4)"
   ]
  },
  {
   "cell_type": "code",
   "execution_count": 11,
   "metadata": {},
   "outputs": [],
   "source": [
    "#Creating metadata in same order to plot it over heatmap\n",
    "metaDataHeatmap <- Petertablev4[match(rownames(ALL_WITH_COUNTv2),Petertablev4$SampleID),]\n",
    "\n",
    "\n"
   ]
  },
  {
   "cell_type": "code",
   "execution_count": 12,
   "metadata": {},
   "outputs": [],
   "source": [
    "#Scaling the dataframe column wise, meaning for each variable (not sample wise)\n",
    "ALL_WITH_COUNTv2_scaled = t(scale(ALL_WITH_COUNTv2))"
   ]
  },
  {
   "cell_type": "code",
   "execution_count": 13,
   "metadata": {},
   "outputs": [],
   "source": [
    "#Creating upper annotation for heatmap\n",
    "ha = HeatmapAnnotation(Batch = as.factor(metaDataHeatmap$BATCH), \n",
    "    pheno = as.factor(metaDataHeatmap$pheno),\n",
    "    RECRUITMENT_CAT = metaDataHeatmap$RECRUITMENT_CAT,\n",
    "    genetic_sex = as.factor(metaDataHeatmap$genetic_sex),\n",
    "    mutation = metaDataHeatmap$mutation, col=list(Batch=c(\"1\"=\"Red\",\"2\"=\"Blue\",\"3\"=\"Grey\",\"4\"=\"Purple\",\"5\"=\"Black\"),\n",
    "                                                 pheno=c(\"-9\"='#0B5390FF',\"1\"='#708605FF',\"2\"='#089B17FF'),\n",
    "                                                 RECRUITMENT_CAT=c(\"GENPD\"='#F24C5CFF',\"GENUN\"='#55D5C0FF',\"HC\"='#E81BF8FF',\"PD\"='#A11FCEFF',\"PRODROMA\"='#51ED99FF'),\n",
    "                                                 genetic_sex=c(\"1\"='#4814C9FF',\"2\"='#EA6774FF'),\n",
    "                                                 mutation=c(\"GBA_N409S\"='#F166E7FF',\"LRRK2_Arg1441Gly\"='#08276FFF',\"LRRK2_G2019S\"='#8E7719FF',\"na\"='grey',\"SNCA_A53T\"='#515152FF'))\n",
    "\n",
    ")\n"
   ]
  },
  {
   "cell_type": "code",
   "execution_count": 14,
   "metadata": {},
   "outputs": [
    {
     "data": {
      "text/html": [
       "<strong>png:</strong> 2"
      ],
      "text/latex": [
       "\\textbf{png:} 2"
      ],
      "text/markdown": [
       "**png:** 2"
      ],
      "text/plain": [
       "png \n",
       "  2 "
      ]
     },
     "metadata": {},
     "output_type": "display_data"
    }
   ],
   "source": [
    "pdf(\"HeatmapNumberStats.pdf\", width=30, height=10)\n",
    "\n",
    "Heatmap(ALL_WITH_COUNTv2_scaled, name = \"Z-score\", km = 1, top_annotation = ha, \n",
    "     show_row_names = TRUE, \n",
    "    show_column_names = TRUE, show_row_dend = FALSE, cluster_rows = FALSE, cluster_row_slices = FALSE)\n",
    "dev.off()"
   ]
  },
  {
   "cell_type": "code",
   "execution_count": 15,
   "metadata": {},
   "outputs": [
    {
     "data": {
      "text/plain": [
       "R version 3.6.1 (2019-07-05)\n",
       "Platform: x86_64-conda_cos6-linux-gnu (64-bit)\n",
       "Running under: Ubuntu 16.04.5 LTS\n",
       "\n",
       "Matrix products: default\n",
       "BLAS/LAPACK: /opt/anaconda3/lib/R/lib/libRblas.so\n",
       "\n",
       "locale:\n",
       " [1] LC_CTYPE=en_US.UTF-8       LC_NUMERIC=C              \n",
       " [3] LC_TIME=en_US.UTF-8        LC_COLLATE=en_US.UTF-8    \n",
       " [5] LC_MONETARY=en_US.UTF-8    LC_MESSAGES=en_US.UTF-8   \n",
       " [7] LC_PAPER=en_US.UTF-8       LC_NAME=C                 \n",
       " [9] LC_ADDRESS=C               LC_TELEPHONE=C            \n",
       "[11] LC_MEASUREMENT=en_US.UTF-8 LC_IDENTIFICATION=C       \n",
       "\n",
       "attached base packages:\n",
       "[1] grid      stats     graphics  grDevices utils     datasets  methods  \n",
       "[8] base     \n",
       "\n",
       "other attached packages:\n",
       "[1] dplyr_0.8.0.1        ComplexHeatmap_2.2.0 stringi_1.4.3       \n",
       "[4] readxl_1.3.1        \n",
       "\n",
       "loaded via a namespace (and not attached):\n",
       " [1] Rcpp_1.0.1          cellranger_1.1.0    compiler_3.6.1     \n",
       " [4] pillar_1.3.1        RColorBrewer_1.1-2  base64enc_0.1-3    \n",
       " [7] tools_3.6.1         digest_0.6.18       uuid_0.1-2         \n",
       "[10] jsonlite_1.6        evaluate_0.13       tibble_2.1.1       \n",
       "[13] clue_0.3-57         pkgconfig_2.0.2     png_0.1-7          \n",
       "[16] rlang_0.3.4         IRdisplay_0.7.0     IRkernel_0.8.15    \n",
       "[19] parallel_3.6.1      repr_0.19.2         cluster_2.0.8      \n",
       "[22] GlobalOptions_0.1.1 tidyselect_0.2.5    glue_1.3.1         \n",
       "[25] R6_2.4.0            GetoptLong_0.1.8    pbdZMQ_0.3-3       \n",
       "[28] purrr_0.3.2         magrittr_1.5        htmltools_0.3.6    \n",
       "[31] assertthat_0.2.1    shape_1.4.4         circlize_0.4.8     \n",
       "[34] colorspace_1.4-1    crayon_1.3.4        rjson_0.2.20       "
      ]
     },
     "metadata": {},
     "output_type": "display_data"
    }
   ],
   "source": [
    "sessionInfo()"
   ]
  },
  {
   "cell_type": "code",
   "execution_count": 16,
   "metadata": {},
   "outputs": [],
   "source": [
    "ALL_WITH_COUNTv3 <- as.data.frame(t(ALL_WITH_COUNTv2))\n",
    "ALL_WITH_COUNTv3$Mean <- apply(as.data.frame(t(ALL_WITH_COUNTv2)),1,mean)\n",
    "ALL_WITH_COUNTv3$Median <- apply(as.data.frame(t(ALL_WITH_COUNTv2)),1,median)\n",
    "ALL_WITH_COUNTv3$Max <- apply(as.data.frame(t(ALL_WITH_COUNTv2)),1,max)\n",
    "ALL_WITH_COUNTv3$Min <- apply(as.data.frame(t(ALL_WITH_COUNTv2)),1,min)\n",
    "ALL_WITH_COUNTv3$SD <- apply(as.data.frame(t(ALL_WITH_COUNTv2)),1,sd)\n",
    "\n"
   ]
  },
  {
   "cell_type": "code",
   "execution_count": 17,
   "metadata": {},
   "outputs": [],
   "source": [
    "write.table(t(ALL_WITH_COUNTv3),file=\"All_metrics_Summary.csv\", sep=\",\", quote = F)"
   ]
  },
  {
   "cell_type": "code",
   "execution_count": null,
   "metadata": {},
   "outputs": [],
   "source": []
  }
 ],
 "metadata": {
  "kernelspec": {
   "display_name": "R",
   "language": "R",
   "name": "ir"
  },
  "language_info": {
   "codemirror_mode": "r",
   "file_extension": ".r",
   "mimetype": "text/x-r-source",
   "name": "R",
   "pygments_lexer": "r",
   "version": "3.6.1"
  }
 },
 "nbformat": 4,
 "nbformat_minor": 4
}
